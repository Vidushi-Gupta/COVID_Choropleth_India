{
  "nbformat": 4,
  "nbformat_minor": 0,
  "metadata": {
    "language_info": {
      "codemirror_mode": {
        "name": "ipython",
        "version": 3
      },
      "file_extension": ".py",
      "mimetype": "text/x-python",
      "name": "python",
      "nbconvert_exporter": "python",
      "pygments_lexer": "ipython3",
      "version": "3.8.3-final"
    },
    "orig_nbformat": 2,
    "kernelspec": {
      "name": "python38364bit506dce76219f412ea035dd18fb858d92",
      "display_name": "Python 3.8.3 64-bit"
    },
    "colab": {
      "name": "India_COVID_choropleth.ipynb",
      "provenance": []
    }
  },
  "cells": [
    {
      "cell_type": "markdown",
      "metadata": {
        "id": "s5vVl1Gkx0EH",
        "colab_type": "text"
      },
      "source": [
        "Importing the libraries"
      ]
    },
    {
      "cell_type": "code",
      "metadata": {
        "id": "jksLiC2Lx0EI",
        "colab_type": "code",
        "colab": {}
      },
      "source": [
        "import pandas as pd\n",
        "import numpy as np\n",
        "import matplotlib.pyplot as plt \n",
        "import geopandas as gpd\n",
        "import seaborn as sns\n"
      ],
      "execution_count": 1,
      "outputs": []
    },
    {
      "cell_type": "markdown",
      "metadata": {
        "id": "_NJvnzYrx0EN",
        "colab_type": "text"
      },
      "source": [
        "Importing Dataset"
      ]
    },
    {
      "cell_type": "code",
      "metadata": {
        "id": "Jh6Eb6mMx0EO",
        "colab_type": "code",
        "colab": {},
        "outputId": "5c15d67b-9a74-4bfb-aa6e-b1a205cd4917"
      },
      "source": [
        "df = pd.read_csv(r\"/Users/vidushigupta/Desktop/Vidushi/COVID dataset/state_wise_daily.csv\", parse_dates=['Date'])\n",
        "df.head(5)"
      ],
      "execution_count": 2,
      "outputs": [
        {
          "output_type": "execute_result",
          "data": {
            "text/plain": "        Date     Status  TT  AN  AP  AR  AS  BR  CH  CT  ...  PB  RJ  SK  TN  \\\n0 2020-03-14  Confirmed  81   0   1   0   0   0   0   0  ...   1   3   0   1   \n1 2020-03-14  Recovered   9   0   0   0   0   0   0   0  ...   0   1   0   0   \n2 2020-03-14   Deceased   2   0   0   0   0   0   0   0  ...   0   0   0   0   \n3 2020-03-15  Confirmed  27   0   0   0   0   0   0   0  ...   0   1   0   0   \n4 2020-03-15  Recovered   4   0   0   0   0   0   0   0  ...   0   2   0   0   \n\n   TG  TR  UP  UT  WB  UN  \n0   1   0  12   0   0   0  \n1   0   0   4   0   0   0  \n2   0   0   0   0   0   0  \n3   2   0   1   0   0   0  \n4   1   0   0   0   0   0  \n\n[5 rows x 41 columns]",
            "text/html": "<div>\n<style scoped>\n    .dataframe tbody tr th:only-of-type {\n        vertical-align: middle;\n    }\n\n    .dataframe tbody tr th {\n        vertical-align: top;\n    }\n\n    .dataframe thead th {\n        text-align: right;\n    }\n</style>\n<table border=\"1\" class=\"dataframe\">\n  <thead>\n    <tr style=\"text-align: right;\">\n      <th></th>\n      <th>Date</th>\n      <th>Status</th>\n      <th>TT</th>\n      <th>AN</th>\n      <th>AP</th>\n      <th>AR</th>\n      <th>AS</th>\n      <th>BR</th>\n      <th>CH</th>\n      <th>CT</th>\n      <th>...</th>\n      <th>PB</th>\n      <th>RJ</th>\n      <th>SK</th>\n      <th>TN</th>\n      <th>TG</th>\n      <th>TR</th>\n      <th>UP</th>\n      <th>UT</th>\n      <th>WB</th>\n      <th>UN</th>\n    </tr>\n  </thead>\n  <tbody>\n    <tr>\n      <th>0</th>\n      <td>2020-03-14</td>\n      <td>Confirmed</td>\n      <td>81</td>\n      <td>0</td>\n      <td>1</td>\n      <td>0</td>\n      <td>0</td>\n      <td>0</td>\n      <td>0</td>\n      <td>0</td>\n      <td>...</td>\n      <td>1</td>\n      <td>3</td>\n      <td>0</td>\n      <td>1</td>\n      <td>1</td>\n      <td>0</td>\n      <td>12</td>\n      <td>0</td>\n      <td>0</td>\n      <td>0</td>\n    </tr>\n    <tr>\n      <th>1</th>\n      <td>2020-03-14</td>\n      <td>Recovered</td>\n      <td>9</td>\n      <td>0</td>\n      <td>0</td>\n      <td>0</td>\n      <td>0</td>\n      <td>0</td>\n      <td>0</td>\n      <td>0</td>\n      <td>...</td>\n      <td>0</td>\n      <td>1</td>\n      <td>0</td>\n      <td>0</td>\n      <td>0</td>\n      <td>0</td>\n      <td>4</td>\n      <td>0</td>\n      <td>0</td>\n      <td>0</td>\n    </tr>\n    <tr>\n      <th>2</th>\n      <td>2020-03-14</td>\n      <td>Deceased</td>\n      <td>2</td>\n      <td>0</td>\n      <td>0</td>\n      <td>0</td>\n      <td>0</td>\n      <td>0</td>\n      <td>0</td>\n      <td>0</td>\n      <td>...</td>\n      <td>0</td>\n      <td>0</td>\n      <td>0</td>\n      <td>0</td>\n      <td>0</td>\n      <td>0</td>\n      <td>0</td>\n      <td>0</td>\n      <td>0</td>\n      <td>0</td>\n    </tr>\n    <tr>\n      <th>3</th>\n      <td>2020-03-15</td>\n      <td>Confirmed</td>\n      <td>27</td>\n      <td>0</td>\n      <td>0</td>\n      <td>0</td>\n      <td>0</td>\n      <td>0</td>\n      <td>0</td>\n      <td>0</td>\n      <td>...</td>\n      <td>0</td>\n      <td>1</td>\n      <td>0</td>\n      <td>0</td>\n      <td>2</td>\n      <td>0</td>\n      <td>1</td>\n      <td>0</td>\n      <td>0</td>\n      <td>0</td>\n    </tr>\n    <tr>\n      <th>4</th>\n      <td>2020-03-15</td>\n      <td>Recovered</td>\n      <td>4</td>\n      <td>0</td>\n      <td>0</td>\n      <td>0</td>\n      <td>0</td>\n      <td>0</td>\n      <td>0</td>\n      <td>0</td>\n      <td>...</td>\n      <td>0</td>\n      <td>2</td>\n      <td>0</td>\n      <td>0</td>\n      <td>1</td>\n      <td>0</td>\n      <td>0</td>\n      <td>0</td>\n      <td>0</td>\n      <td>0</td>\n    </tr>\n  </tbody>\n</table>\n<p>5 rows × 41 columns</p>\n</div>"
          },
          "metadata": {},
          "execution_count": 2
        }
      ]
    },
    {
      "cell_type": "markdown",
      "metadata": {
        "id": "FUY19x9dx0ET",
        "colab_type": "text"
      },
      "source": [
        "Cleaning and Preparing Data for visualization"
      ]
    },
    {
      "cell_type": "code",
      "metadata": {
        "id": "vZH1_C63x0EU",
        "colab_type": "code",
        "colab": {},
        "outputId": "f739df6b-dc9f-4929-bb99-f132f0f2ec40"
      },
      "source": [
        "indexNames = df[ df['Status'] == 'Deceased'].index\n",
        "df.drop(indexNames , inplace=True)\n",
        "indexNames = df[ df['Status'] == 'Recovered'].index\n",
        "df.drop(indexNames , inplace=True)\n",
        "indexNames = df[ df['Status'] == 'Latitude'].index\n",
        "df.drop(indexNames , inplace=True)\n",
        "indexNames = df[ df['Status'] == 'Longitude'].index\n",
        "df.drop(indexNames , inplace=True)\n",
        "df.head(5)\n"
      ],
      "execution_count": 3,
      "outputs": [
        {
          "output_type": "execute_result",
          "data": {
            "text/plain": "         Date     Status  TT  AN  AP  AR  AS  BR  CH  CT  ...  PB  RJ  SK  TN  \\\n0  2020-03-14  Confirmed  81   0   1   0   0   0   0   0  ...   1   3   0   1   \n3  2020-03-15  Confirmed  27   0   0   0   0   0   0   0  ...   0   1   0   0   \n6  2020-03-16  Confirmed  15   0   0   0   0   0   0   0  ...   0   0   0   0   \n9  2020-03-17  Confirmed  11   0   0   0   0   0   0   0  ...   0   0   0   0   \n12 2020-03-18  Confirmed  37   0   0   0   0   0   0   0  ...   1   3   0   1   \n\n    TG  TR  UP  UT  WB  UN  \n0    1   0  12   0   0   0  \n3    2   0   1   0   0   0  \n6    1   0   0   1   0   0  \n9    1   0   2   0   1   0  \n12   8   0   2   1   0   0  \n\n[5 rows x 41 columns]",
            "text/html": "<div>\n<style scoped>\n    .dataframe tbody tr th:only-of-type {\n        vertical-align: middle;\n    }\n\n    .dataframe tbody tr th {\n        vertical-align: top;\n    }\n\n    .dataframe thead th {\n        text-align: right;\n    }\n</style>\n<table border=\"1\" class=\"dataframe\">\n  <thead>\n    <tr style=\"text-align: right;\">\n      <th></th>\n      <th>Date</th>\n      <th>Status</th>\n      <th>TT</th>\n      <th>AN</th>\n      <th>AP</th>\n      <th>AR</th>\n      <th>AS</th>\n      <th>BR</th>\n      <th>CH</th>\n      <th>CT</th>\n      <th>...</th>\n      <th>PB</th>\n      <th>RJ</th>\n      <th>SK</th>\n      <th>TN</th>\n      <th>TG</th>\n      <th>TR</th>\n      <th>UP</th>\n      <th>UT</th>\n      <th>WB</th>\n      <th>UN</th>\n    </tr>\n  </thead>\n  <tbody>\n    <tr>\n      <th>0</th>\n      <td>2020-03-14</td>\n      <td>Confirmed</td>\n      <td>81</td>\n      <td>0</td>\n      <td>1</td>\n      <td>0</td>\n      <td>0</td>\n      <td>0</td>\n      <td>0</td>\n      <td>0</td>\n      <td>...</td>\n      <td>1</td>\n      <td>3</td>\n      <td>0</td>\n      <td>1</td>\n      <td>1</td>\n      <td>0</td>\n      <td>12</td>\n      <td>0</td>\n      <td>0</td>\n      <td>0</td>\n    </tr>\n    <tr>\n      <th>3</th>\n      <td>2020-03-15</td>\n      <td>Confirmed</td>\n      <td>27</td>\n      <td>0</td>\n      <td>0</td>\n      <td>0</td>\n      <td>0</td>\n      <td>0</td>\n      <td>0</td>\n      <td>0</td>\n      <td>...</td>\n      <td>0</td>\n      <td>1</td>\n      <td>0</td>\n      <td>0</td>\n      <td>2</td>\n      <td>0</td>\n      <td>1</td>\n      <td>0</td>\n      <td>0</td>\n      <td>0</td>\n    </tr>\n    <tr>\n      <th>6</th>\n      <td>2020-03-16</td>\n      <td>Confirmed</td>\n      <td>15</td>\n      <td>0</td>\n      <td>0</td>\n      <td>0</td>\n      <td>0</td>\n      <td>0</td>\n      <td>0</td>\n      <td>0</td>\n      <td>...</td>\n      <td>0</td>\n      <td>0</td>\n      <td>0</td>\n      <td>0</td>\n      <td>1</td>\n      <td>0</td>\n      <td>0</td>\n      <td>1</td>\n      <td>0</td>\n      <td>0</td>\n    </tr>\n    <tr>\n      <th>9</th>\n      <td>2020-03-17</td>\n      <td>Confirmed</td>\n      <td>11</td>\n      <td>0</td>\n      <td>0</td>\n      <td>0</td>\n      <td>0</td>\n      <td>0</td>\n      <td>0</td>\n      <td>0</td>\n      <td>...</td>\n      <td>0</td>\n      <td>0</td>\n      <td>0</td>\n      <td>0</td>\n      <td>1</td>\n      <td>0</td>\n      <td>2</td>\n      <td>0</td>\n      <td>1</td>\n      <td>0</td>\n    </tr>\n    <tr>\n      <th>12</th>\n      <td>2020-03-18</td>\n      <td>Confirmed</td>\n      <td>37</td>\n      <td>0</td>\n      <td>0</td>\n      <td>0</td>\n      <td>0</td>\n      <td>0</td>\n      <td>0</td>\n      <td>0</td>\n      <td>...</td>\n      <td>1</td>\n      <td>3</td>\n      <td>0</td>\n      <td>1</td>\n      <td>8</td>\n      <td>0</td>\n      <td>2</td>\n      <td>1</td>\n      <td>0</td>\n      <td>0</td>\n    </tr>\n  </tbody>\n</table>\n<p>5 rows × 41 columns</p>\n</div>"
          },
          "metadata": {},
          "execution_count": 3
        }
      ]
    },
    {
      "cell_type": "code",
      "metadata": {
        "id": "KFdTWbGWx0EX",
        "colab_type": "code",
        "colab": {}
      },
      "source": [
        "df_1=df.drop(['Status'], axis=1)"
      ],
      "execution_count": 4,
      "outputs": []
    },
    {
      "cell_type": "code",
      "metadata": {
        "id": "tdMi_Onix0Eb",
        "colab_type": "code",
        "colab": {}
      },
      "source": [
        "df_1.set_index(pd.DatetimeIndex(df_1['Date']), inplace=True)"
      ],
      "execution_count": 5,
      "outputs": []
    },
    {
      "cell_type": "code",
      "metadata": {
        "id": "xMIvsctpx0Ee",
        "colab_type": "code",
        "colab": {},
        "outputId": "d072abe9-249d-45ee-ed79-fa54c49f790d"
      },
      "source": [
        "df_2=df_1.drop(['Date'], axis=1)\n",
        "df_2.head(5)"
      ],
      "execution_count": 6,
      "outputs": [
        {
          "output_type": "execute_result",
          "data": {
            "text/plain": "            TT  AN  AP  AR  AS  BR  CH  CT  DN  DD  ...  PB  RJ  SK  TN  TG  \\\nDate                                                ...                       \n2020-03-14  81   0   1   0   0   0   0   0   0   0  ...   1   3   0   1   1   \n2020-03-15  27   0   0   0   0   0   0   0   0   0  ...   0   1   0   0   2   \n2020-03-16  15   0   0   0   0   0   0   0   0   0  ...   0   0   0   0   1   \n2020-03-17  11   0   0   0   0   0   0   0   0   0  ...   0   0   0   0   1   \n2020-03-18  37   0   0   0   0   0   0   0   0   0  ...   1   3   0   1   8   \n\n            TR  UP  UT  WB  UN  \nDate                            \n2020-03-14   0  12   0   0   0  \n2020-03-15   0   1   0   0   0  \n2020-03-16   0   0   1   0   0  \n2020-03-17   0   2   0   1   0  \n2020-03-18   0   2   1   0   0  \n\n[5 rows x 39 columns]",
            "text/html": "<div>\n<style scoped>\n    .dataframe tbody tr th:only-of-type {\n        vertical-align: middle;\n    }\n\n    .dataframe tbody tr th {\n        vertical-align: top;\n    }\n\n    .dataframe thead th {\n        text-align: right;\n    }\n</style>\n<table border=\"1\" class=\"dataframe\">\n  <thead>\n    <tr style=\"text-align: right;\">\n      <th></th>\n      <th>TT</th>\n      <th>AN</th>\n      <th>AP</th>\n      <th>AR</th>\n      <th>AS</th>\n      <th>BR</th>\n      <th>CH</th>\n      <th>CT</th>\n      <th>DN</th>\n      <th>DD</th>\n      <th>...</th>\n      <th>PB</th>\n      <th>RJ</th>\n      <th>SK</th>\n      <th>TN</th>\n      <th>TG</th>\n      <th>TR</th>\n      <th>UP</th>\n      <th>UT</th>\n      <th>WB</th>\n      <th>UN</th>\n    </tr>\n    <tr>\n      <th>Date</th>\n      <th></th>\n      <th></th>\n      <th></th>\n      <th></th>\n      <th></th>\n      <th></th>\n      <th></th>\n      <th></th>\n      <th></th>\n      <th></th>\n      <th></th>\n      <th></th>\n      <th></th>\n      <th></th>\n      <th></th>\n      <th></th>\n      <th></th>\n      <th></th>\n      <th></th>\n      <th></th>\n      <th></th>\n    </tr>\n  </thead>\n  <tbody>\n    <tr>\n      <th>2020-03-14</th>\n      <td>81</td>\n      <td>0</td>\n      <td>1</td>\n      <td>0</td>\n      <td>0</td>\n      <td>0</td>\n      <td>0</td>\n      <td>0</td>\n      <td>0</td>\n      <td>0</td>\n      <td>...</td>\n      <td>1</td>\n      <td>3</td>\n      <td>0</td>\n      <td>1</td>\n      <td>1</td>\n      <td>0</td>\n      <td>12</td>\n      <td>0</td>\n      <td>0</td>\n      <td>0</td>\n    </tr>\n    <tr>\n      <th>2020-03-15</th>\n      <td>27</td>\n      <td>0</td>\n      <td>0</td>\n      <td>0</td>\n      <td>0</td>\n      <td>0</td>\n      <td>0</td>\n      <td>0</td>\n      <td>0</td>\n      <td>0</td>\n      <td>...</td>\n      <td>0</td>\n      <td>1</td>\n      <td>0</td>\n      <td>0</td>\n      <td>2</td>\n      <td>0</td>\n      <td>1</td>\n      <td>0</td>\n      <td>0</td>\n      <td>0</td>\n    </tr>\n    <tr>\n      <th>2020-03-16</th>\n      <td>15</td>\n      <td>0</td>\n      <td>0</td>\n      <td>0</td>\n      <td>0</td>\n      <td>0</td>\n      <td>0</td>\n      <td>0</td>\n      <td>0</td>\n      <td>0</td>\n      <td>...</td>\n      <td>0</td>\n      <td>0</td>\n      <td>0</td>\n      <td>0</td>\n      <td>1</td>\n      <td>0</td>\n      <td>0</td>\n      <td>1</td>\n      <td>0</td>\n      <td>0</td>\n    </tr>\n    <tr>\n      <th>2020-03-17</th>\n      <td>11</td>\n      <td>0</td>\n      <td>0</td>\n      <td>0</td>\n      <td>0</td>\n      <td>0</td>\n      <td>0</td>\n      <td>0</td>\n      <td>0</td>\n      <td>0</td>\n      <td>...</td>\n      <td>0</td>\n      <td>0</td>\n      <td>0</td>\n      <td>0</td>\n      <td>1</td>\n      <td>0</td>\n      <td>2</td>\n      <td>0</td>\n      <td>1</td>\n      <td>0</td>\n    </tr>\n    <tr>\n      <th>2020-03-18</th>\n      <td>37</td>\n      <td>0</td>\n      <td>0</td>\n      <td>0</td>\n      <td>0</td>\n      <td>0</td>\n      <td>0</td>\n      <td>0</td>\n      <td>0</td>\n      <td>0</td>\n      <td>...</td>\n      <td>1</td>\n      <td>3</td>\n      <td>0</td>\n      <td>1</td>\n      <td>8</td>\n      <td>0</td>\n      <td>2</td>\n      <td>1</td>\n      <td>0</td>\n      <td>0</td>\n    </tr>\n  </tbody>\n</table>\n<p>5 rows × 39 columns</p>\n</div>"
          },
          "metadata": {},
          "execution_count": 6
        }
      ]
    },
    {
      "cell_type": "code",
      "metadata": {
        "id": "-X_RFgczx0Eh",
        "colab_type": "code",
        "colab": {},
        "outputId": "4fe4dc67-2f20-4707-fc45-8b871c84752b"
      },
      "source": [
        "df_3=df_2.resample('M').sum()\n",
        "df_3.head()\n"
      ],
      "execution_count": 7,
      "outputs": [
        {
          "output_type": "execute_result",
          "data": {
            "text/plain": "                TT  AN    AP   AR    AS    BR   CH    CT  DN  DD  ...    PB  \\\nDate                                                              ...         \n2020-03-31    1635  10    44    0     1    21   15     9   0   0  ...    42   \n2020-04-30   33231  23  1359    1    42   404   59    31   0   0  ...   438   \n2020-05-31  155779   0  2168    3  1297  3382  219   458   2   0  ...  1783   \n2020-06-30  190446  12  3925  102  3564  3233   81  1448  58   0  ...  1352   \n\n              RJ  SK     TN    TG   TR    UP    UT    WB    UN  \nDate                                                            \n2020-03-31    93   0    124    97    0   104     7    37     0  \n2020-04-30  2491   0   2199   941    3  2107    50   721     0  \n2020-05-31  6247   1  20010  1660  313  5864   850  4743  5491  \n2020-06-30  5026  69  30001  3329  838  7710  1196  7234  3212  \n\n[4 rows x 39 columns]",
            "text/html": "<div>\n<style scoped>\n    .dataframe tbody tr th:only-of-type {\n        vertical-align: middle;\n    }\n\n    .dataframe tbody tr th {\n        vertical-align: top;\n    }\n\n    .dataframe thead th {\n        text-align: right;\n    }\n</style>\n<table border=\"1\" class=\"dataframe\">\n  <thead>\n    <tr style=\"text-align: right;\">\n      <th></th>\n      <th>TT</th>\n      <th>AN</th>\n      <th>AP</th>\n      <th>AR</th>\n      <th>AS</th>\n      <th>BR</th>\n      <th>CH</th>\n      <th>CT</th>\n      <th>DN</th>\n      <th>DD</th>\n      <th>...</th>\n      <th>PB</th>\n      <th>RJ</th>\n      <th>SK</th>\n      <th>TN</th>\n      <th>TG</th>\n      <th>TR</th>\n      <th>UP</th>\n      <th>UT</th>\n      <th>WB</th>\n      <th>UN</th>\n    </tr>\n    <tr>\n      <th>Date</th>\n      <th></th>\n      <th></th>\n      <th></th>\n      <th></th>\n      <th></th>\n      <th></th>\n      <th></th>\n      <th></th>\n      <th></th>\n      <th></th>\n      <th></th>\n      <th></th>\n      <th></th>\n      <th></th>\n      <th></th>\n      <th></th>\n      <th></th>\n      <th></th>\n      <th></th>\n      <th></th>\n      <th></th>\n    </tr>\n  </thead>\n  <tbody>\n    <tr>\n      <th>2020-03-31</th>\n      <td>1635</td>\n      <td>10</td>\n      <td>44</td>\n      <td>0</td>\n      <td>1</td>\n      <td>21</td>\n      <td>15</td>\n      <td>9</td>\n      <td>0</td>\n      <td>0</td>\n      <td>...</td>\n      <td>42</td>\n      <td>93</td>\n      <td>0</td>\n      <td>124</td>\n      <td>97</td>\n      <td>0</td>\n      <td>104</td>\n      <td>7</td>\n      <td>37</td>\n      <td>0</td>\n    </tr>\n    <tr>\n      <th>2020-04-30</th>\n      <td>33231</td>\n      <td>23</td>\n      <td>1359</td>\n      <td>1</td>\n      <td>42</td>\n      <td>404</td>\n      <td>59</td>\n      <td>31</td>\n      <td>0</td>\n      <td>0</td>\n      <td>...</td>\n      <td>438</td>\n      <td>2491</td>\n      <td>0</td>\n      <td>2199</td>\n      <td>941</td>\n      <td>3</td>\n      <td>2107</td>\n      <td>50</td>\n      <td>721</td>\n      <td>0</td>\n    </tr>\n    <tr>\n      <th>2020-05-31</th>\n      <td>155779</td>\n      <td>0</td>\n      <td>2168</td>\n      <td>3</td>\n      <td>1297</td>\n      <td>3382</td>\n      <td>219</td>\n      <td>458</td>\n      <td>2</td>\n      <td>0</td>\n      <td>...</td>\n      <td>1783</td>\n      <td>6247</td>\n      <td>1</td>\n      <td>20010</td>\n      <td>1660</td>\n      <td>313</td>\n      <td>5864</td>\n      <td>850</td>\n      <td>4743</td>\n      <td>5491</td>\n    </tr>\n    <tr>\n      <th>2020-06-30</th>\n      <td>190446</td>\n      <td>12</td>\n      <td>3925</td>\n      <td>102</td>\n      <td>3564</td>\n      <td>3233</td>\n      <td>81</td>\n      <td>1448</td>\n      <td>58</td>\n      <td>0</td>\n      <td>...</td>\n      <td>1352</td>\n      <td>5026</td>\n      <td>69</td>\n      <td>30001</td>\n      <td>3329</td>\n      <td>838</td>\n      <td>7710</td>\n      <td>1196</td>\n      <td>7234</td>\n      <td>3212</td>\n    </tr>\n  </tbody>\n</table>\n<p>4 rows × 39 columns</p>\n</div>"
          },
          "metadata": {},
          "execution_count": 7
        }
      ]
    },
    {
      "cell_type": "code",
      "metadata": {
        "id": "8Na8dAAqx0Em",
        "colab_type": "code",
        "colab": {},
        "outputId": "bf01ca70-b2ca-40c9-e069-715e531728df"
      },
      "source": [
        "df_4=df_3.transpose()\n",
        "df_4.head()"
      ],
      "execution_count": 8,
      "outputs": [
        {
          "output_type": "execute_result",
          "data": {
            "text/plain": "Date  2020-03-31  2020-04-30  2020-05-31  2020-06-30\nTT          1635       33231      155779      190446\nAN            10          23           0          12\nAP            44        1359        2168        3925\nAR             0           1           3         102\nAS             1          42        1297        3564",
            "text/html": "<div>\n<style scoped>\n    .dataframe tbody tr th:only-of-type {\n        vertical-align: middle;\n    }\n\n    .dataframe tbody tr th {\n        vertical-align: top;\n    }\n\n    .dataframe thead th {\n        text-align: right;\n    }\n</style>\n<table border=\"1\" class=\"dataframe\">\n  <thead>\n    <tr style=\"text-align: right;\">\n      <th>Date</th>\n      <th>2020-03-31</th>\n      <th>2020-04-30</th>\n      <th>2020-05-31</th>\n      <th>2020-06-30</th>\n    </tr>\n  </thead>\n  <tbody>\n    <tr>\n      <th>TT</th>\n      <td>1635</td>\n      <td>33231</td>\n      <td>155779</td>\n      <td>190446</td>\n    </tr>\n    <tr>\n      <th>AN</th>\n      <td>10</td>\n      <td>23</td>\n      <td>0</td>\n      <td>12</td>\n    </tr>\n    <tr>\n      <th>AP</th>\n      <td>44</td>\n      <td>1359</td>\n      <td>2168</td>\n      <td>3925</td>\n    </tr>\n    <tr>\n      <th>AR</th>\n      <td>0</td>\n      <td>1</td>\n      <td>3</td>\n      <td>102</td>\n    </tr>\n    <tr>\n      <th>AS</th>\n      <td>1</td>\n      <td>42</td>\n      <td>1297</td>\n      <td>3564</td>\n    </tr>\n  </tbody>\n</table>\n</div>"
          },
          "metadata": {},
          "execution_count": 8
        }
      ]
    },
    {
      "cell_type": "code",
      "metadata": {
        "id": "fG-gJwWzx0Ep",
        "colab_type": "code",
        "colab": {},
        "outputId": "11389f1f-97f5-4b73-d86f-f36c4f8c586a"
      },
      "source": [
        "df_5=df_4.drop(['TT','UN'])\n",
        "df_5.head()"
      ],
      "execution_count": 9,
      "outputs": [
        {
          "output_type": "execute_result",
          "data": {
            "text/plain": "Date  2020-03-31  2020-04-30  2020-05-31  2020-06-30\nAN            10          23           0          12\nAP            44        1359        2168        3925\nAR             0           1           3         102\nAS             1          42        1297        3564\nBR            21         404        3382        3233",
            "text/html": "<div>\n<style scoped>\n    .dataframe tbody tr th:only-of-type {\n        vertical-align: middle;\n    }\n\n    .dataframe tbody tr th {\n        vertical-align: top;\n    }\n\n    .dataframe thead th {\n        text-align: right;\n    }\n</style>\n<table border=\"1\" class=\"dataframe\">\n  <thead>\n    <tr style=\"text-align: right;\">\n      <th>Date</th>\n      <th>2020-03-31</th>\n      <th>2020-04-30</th>\n      <th>2020-05-31</th>\n      <th>2020-06-30</th>\n    </tr>\n  </thead>\n  <tbody>\n    <tr>\n      <th>AN</th>\n      <td>10</td>\n      <td>23</td>\n      <td>0</td>\n      <td>12</td>\n    </tr>\n    <tr>\n      <th>AP</th>\n      <td>44</td>\n      <td>1359</td>\n      <td>2168</td>\n      <td>3925</td>\n    </tr>\n    <tr>\n      <th>AR</th>\n      <td>0</td>\n      <td>1</td>\n      <td>3</td>\n      <td>102</td>\n    </tr>\n    <tr>\n      <th>AS</th>\n      <td>1</td>\n      <td>42</td>\n      <td>1297</td>\n      <td>3564</td>\n    </tr>\n    <tr>\n      <th>BR</th>\n      <td>21</td>\n      <td>404</td>\n      <td>3382</td>\n      <td>3233</td>\n    </tr>\n  </tbody>\n</table>\n</div>"
          },
          "metadata": {},
          "execution_count": 9
        }
      ]
    },
    {
      "cell_type": "code",
      "metadata": {
        "id": "mzaSFeWCx0Es",
        "colab_type": "code",
        "colab": {},
        "outputId": "f339f86f-e614-4dbf-f268-fb5cc2eadee7"
      },
      "source": [
        "df_5.reset_index(level=0, inplace=True)\n",
        "df_5.head()"
      ],
      "execution_count": 10,
      "outputs": [
        {
          "output_type": "execute_result",
          "data": {
            "text/plain": "Date index  2020-03-31 00:00:00  2020-04-30 00:00:00  2020-05-31 00:00:00  \\\n0       AN                   10                   23                    0   \n1       AP                   44                 1359                 2168   \n2       AR                    0                    1                    3   \n3       AS                    1                   42                 1297   \n4       BR                   21                  404                 3382   \n\nDate  2020-06-30 00:00:00  \n0                      12  \n1                    3925  \n2                     102  \n3                    3564  \n4                    3233  ",
            "text/html": "<div>\n<style scoped>\n    .dataframe tbody tr th:only-of-type {\n        vertical-align: middle;\n    }\n\n    .dataframe tbody tr th {\n        vertical-align: top;\n    }\n\n    .dataframe thead th {\n        text-align: right;\n    }\n</style>\n<table border=\"1\" class=\"dataframe\">\n  <thead>\n    <tr style=\"text-align: right;\">\n      <th>Date</th>\n      <th>index</th>\n      <th>2020-03-31 00:00:00</th>\n      <th>2020-04-30 00:00:00</th>\n      <th>2020-05-31 00:00:00</th>\n      <th>2020-06-30 00:00:00</th>\n    </tr>\n  </thead>\n  <tbody>\n    <tr>\n      <th>0</th>\n      <td>AN</td>\n      <td>10</td>\n      <td>23</td>\n      <td>0</td>\n      <td>12</td>\n    </tr>\n    <tr>\n      <th>1</th>\n      <td>AP</td>\n      <td>44</td>\n      <td>1359</td>\n      <td>2168</td>\n      <td>3925</td>\n    </tr>\n    <tr>\n      <th>2</th>\n      <td>AR</td>\n      <td>0</td>\n      <td>1</td>\n      <td>3</td>\n      <td>102</td>\n    </tr>\n    <tr>\n      <th>3</th>\n      <td>AS</td>\n      <td>1</td>\n      <td>42</td>\n      <td>1297</td>\n      <td>3564</td>\n    </tr>\n    <tr>\n      <th>4</th>\n      <td>BR</td>\n      <td>21</td>\n      <td>404</td>\n      <td>3382</td>\n      <td>3233</td>\n    </tr>\n  </tbody>\n</table>\n</div>"
          },
          "metadata": {},
          "execution_count": 10
        }
      ]
    },
    {
      "cell_type": "code",
      "metadata": {
        "id": "R6G1M-0rx0Ew",
        "colab_type": "code",
        "colab": {},
        "outputId": "62046888-5570-43cf-889b-1ebbab45f435"
      },
      "source": [
        "df_11=df_5.set_axis(['States','March', 'April','May','June'], axis=1, inplace=False)\n",
        "df_11.head()\n"
      ],
      "execution_count": 11,
      "outputs": [
        {
          "output_type": "execute_result",
          "data": {
            "text/plain": "  States  March  April   May  June\n0     AN     10     23     0    12\n1     AP     44   1359  2168  3925\n2     AR      0      1     3   102\n3     AS      1     42  1297  3564\n4     BR     21    404  3382  3233",
            "text/html": "<div>\n<style scoped>\n    .dataframe tbody tr th:only-of-type {\n        vertical-align: middle;\n    }\n\n    .dataframe tbody tr th {\n        vertical-align: top;\n    }\n\n    .dataframe thead th {\n        text-align: right;\n    }\n</style>\n<table border=\"1\" class=\"dataframe\">\n  <thead>\n    <tr style=\"text-align: right;\">\n      <th></th>\n      <th>States</th>\n      <th>March</th>\n      <th>April</th>\n      <th>May</th>\n      <th>June</th>\n    </tr>\n  </thead>\n  <tbody>\n    <tr>\n      <th>0</th>\n      <td>AN</td>\n      <td>10</td>\n      <td>23</td>\n      <td>0</td>\n      <td>12</td>\n    </tr>\n    <tr>\n      <th>1</th>\n      <td>AP</td>\n      <td>44</td>\n      <td>1359</td>\n      <td>2168</td>\n      <td>3925</td>\n    </tr>\n    <tr>\n      <th>2</th>\n      <td>AR</td>\n      <td>0</td>\n      <td>1</td>\n      <td>3</td>\n      <td>102</td>\n    </tr>\n    <tr>\n      <th>3</th>\n      <td>AS</td>\n      <td>1</td>\n      <td>42</td>\n      <td>1297</td>\n      <td>3564</td>\n    </tr>\n    <tr>\n      <th>4</th>\n      <td>BR</td>\n      <td>21</td>\n      <td>404</td>\n      <td>3382</td>\n      <td>3233</td>\n    </tr>\n  </tbody>\n</table>\n</div>"
          },
          "metadata": {},
          "execution_count": 11
        }
      ]
    },
    {
      "cell_type": "code",
      "metadata": {
        "id": "leIRUXkGx0E1",
        "colab_type": "code",
        "colab": {},
        "outputId": "a4bc229c-0460-405b-c5b3-73cea1ff4a24"
      },
      "source": [
        "df_11=df_11.drop(['June'], axis=1)\n",
        "df_11.head()"
      ],
      "execution_count": 12,
      "outputs": [
        {
          "output_type": "execute_result",
          "data": {
            "text/plain": "  States  March  April   May\n0     AN     10     23     0\n1     AP     44   1359  2168\n2     AR      0      1     3\n3     AS      1     42  1297\n4     BR     21    404  3382",
            "text/html": "<div>\n<style scoped>\n    .dataframe tbody tr th:only-of-type {\n        vertical-align: middle;\n    }\n\n    .dataframe tbody tr th {\n        vertical-align: top;\n    }\n\n    .dataframe thead th {\n        text-align: right;\n    }\n</style>\n<table border=\"1\" class=\"dataframe\">\n  <thead>\n    <tr style=\"text-align: right;\">\n      <th></th>\n      <th>States</th>\n      <th>March</th>\n      <th>April</th>\n      <th>May</th>\n    </tr>\n  </thead>\n  <tbody>\n    <tr>\n      <th>0</th>\n      <td>AN</td>\n      <td>10</td>\n      <td>23</td>\n      <td>0</td>\n    </tr>\n    <tr>\n      <th>1</th>\n      <td>AP</td>\n      <td>44</td>\n      <td>1359</td>\n      <td>2168</td>\n    </tr>\n    <tr>\n      <th>2</th>\n      <td>AR</td>\n      <td>0</td>\n      <td>1</td>\n      <td>3</td>\n    </tr>\n    <tr>\n      <th>3</th>\n      <td>AS</td>\n      <td>1</td>\n      <td>42</td>\n      <td>1297</td>\n    </tr>\n    <tr>\n      <th>4</th>\n      <td>BR</td>\n      <td>21</td>\n      <td>404</td>\n      <td>3382</td>\n    </tr>\n  </tbody>\n</table>\n</div>"
          },
          "metadata": {},
          "execution_count": 12
        }
      ]
    },
    {
      "cell_type": "code",
      "metadata": {
        "id": "HFNpcMA6x0E5",
        "colab_type": "code",
        "colab": {},
        "outputId": "7067d182-a332-43e9-a7e8-323a0380ea78"
      },
      "source": [
        "df_11.at[14,'March']= 68\n",
        "df_11.at[14,'April']= 568\n",
        "df_11.at[14,'May']= 1602\n",
        "df_11.drop(18, inplace=True)\n",
        "df_11.head()"
      ],
      "execution_count": 13,
      "outputs": [
        {
          "output_type": "execute_result",
          "data": {
            "text/plain": "  States  March  April   May\n0     AN     10     23     0\n1     AP     44   1359  2168\n2     AR      0      1     3\n3     AS      1     42  1297\n4     BR     21    404  3382",
            "text/html": "<div>\n<style scoped>\n    .dataframe tbody tr th:only-of-type {\n        vertical-align: middle;\n    }\n\n    .dataframe tbody tr th {\n        vertical-align: top;\n    }\n\n    .dataframe thead th {\n        text-align: right;\n    }\n</style>\n<table border=\"1\" class=\"dataframe\">\n  <thead>\n    <tr style=\"text-align: right;\">\n      <th></th>\n      <th>States</th>\n      <th>March</th>\n      <th>April</th>\n      <th>May</th>\n    </tr>\n  </thead>\n  <tbody>\n    <tr>\n      <th>0</th>\n      <td>AN</td>\n      <td>10</td>\n      <td>23</td>\n      <td>0</td>\n    </tr>\n    <tr>\n      <th>1</th>\n      <td>AP</td>\n      <td>44</td>\n      <td>1359</td>\n      <td>2168</td>\n    </tr>\n    <tr>\n      <th>2</th>\n      <td>AR</td>\n      <td>0</td>\n      <td>1</td>\n      <td>3</td>\n    </tr>\n    <tr>\n      <th>3</th>\n      <td>AS</td>\n      <td>1</td>\n      <td>42</td>\n      <td>1297</td>\n    </tr>\n    <tr>\n      <th>4</th>\n      <td>BR</td>\n      <td>21</td>\n      <td>404</td>\n      <td>3382</td>\n    </tr>\n  </tbody>\n</table>\n</div>"
          },
          "metadata": {},
          "execution_count": 13
        }
      ]
    },
    {
      "cell_type": "code",
      "metadata": {
        "id": "HNyAg4gFx0E9",
        "colab_type": "code",
        "colab": {},
        "outputId": "e3bc2cae-460f-415d-e275-738eab1990f1"
      },
      "source": [
        "df_11.reset_index(level=0, inplace=True)\n",
        "df_11.drop('index', axis=1, inplace=True)\n",
        "df_11.tail()"
      ],
      "execution_count": 14,
      "outputs": [
        {
          "output_type": "execute_result",
          "data": {
            "text/plain": "   States  March  April   May\n31     TG     97    941  1660\n32     TR      0      3   313\n33     UP    104   2107  5864\n34     UT      7     50   850\n35     WB     37    721  4743",
            "text/html": "<div>\n<style scoped>\n    .dataframe tbody tr th:only-of-type {\n        vertical-align: middle;\n    }\n\n    .dataframe tbody tr th {\n        vertical-align: top;\n    }\n\n    .dataframe thead th {\n        text-align: right;\n    }\n</style>\n<table border=\"1\" class=\"dataframe\">\n  <thead>\n    <tr style=\"text-align: right;\">\n      <th></th>\n      <th>States</th>\n      <th>March</th>\n      <th>April</th>\n      <th>May</th>\n    </tr>\n  </thead>\n  <tbody>\n    <tr>\n      <th>31</th>\n      <td>TG</td>\n      <td>97</td>\n      <td>941</td>\n      <td>1660</td>\n    </tr>\n    <tr>\n      <th>32</th>\n      <td>TR</td>\n      <td>0</td>\n      <td>3</td>\n      <td>313</td>\n    </tr>\n    <tr>\n      <th>33</th>\n      <td>UP</td>\n      <td>104</td>\n      <td>2107</td>\n      <td>5864</td>\n    </tr>\n    <tr>\n      <th>34</th>\n      <td>UT</td>\n      <td>7</td>\n      <td>50</td>\n      <td>850</td>\n    </tr>\n    <tr>\n      <th>35</th>\n      <td>WB</td>\n      <td>37</td>\n      <td>721</td>\n      <td>4743</td>\n    </tr>\n  </tbody>\n</table>\n</div>"
          },
          "metadata": {},
          "execution_count": 14
        }
      ]
    },
    {
      "cell_type": "code",
      "metadata": {
        "id": "Tmif3PVlx0Fo",
        "colab_type": "code",
        "colab": {}
      },
      "source": [
        "df_11.to_csv('clean_data.csv', index='False')"
      ],
      "execution_count": 15,
      "outputs": []
    }
  ]
}